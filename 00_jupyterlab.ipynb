{
 "cells": [
  {
   "cell_type": "markdown",
   "metadata": {},
   "source": [
    "# **PATO Hands-On Lab**\n",
    "\n",
    "\n",
    "<div align=\"center\">\n",
    "<img src=\n",
    "\"https://pato.ac/wp-content/uploads/pato_logo_MSL_recession.png\"\n",
    "width=\"80%\">\n",
    "</div>\n",
    "<br />\n",
    "\n",
    "Welcome to the PATO Hands-On Lab, your comprehensive walkthrough for getting started and proficient with PATO, the Porous material Analysis Toolbox based on OpenFOAM. PATO is a modular analysis platform developed for multiphase porous reactive materials. It supports a wide range of applications from simple Fourier heat transfer to more complex simulations involving pyrolysis, vaporization, and various chemical interactions within porous media. This Lab aims to facilitate your journey through the installation, setup, and basic usage of PATO, empowering you with the knowledge to leverage its capabilities for your projects.\n",
    "\n",
    "For detailed instructions, advanced features, and comprehensive guidance on using PATO, refer to the [PATO User Guide](https://github.com/nasa/pato/blob/main/documentation/user_guide/PATO_v3.1_User_Guide.pdf).\n",
    "\n",
    "Additional information can also be found on the [PATO website.](https://www.pato.ac)\n",
    "\n",
    "Through this Lab, you'll gain the knowledge and skills to effectively utilize PATO for your research and projects. Happy simulating!"
   ]
  },
  {
   "cell_type": "markdown",
   "metadata": {},
   "source": [
    "# JupyterLab\n",
    "For this hands-on lab, we use [JupyterLab](https://jupyterlab.readthedocs.io/en/stable/) to manage our environment.  The [JupyterLab Interface](https://jupyterlab.readthedocs.io/en/stable/user/interface.html) is a dashboard that provides access to interactive iPython notebooks, as well as the folder structure of our environment and a terminal window into the Ubuntu operating system. The first view you'll see includes a **menu bar** at the top, a **file browser** in the **left sidebar**, and a **main work area** that is initially open to the \"Launcher\" page. \n",
    "\n",
    "<img src=\"images/jl_launcher.png\">\n",
    "\n",
    "The file browser can be navigated just like any other file explorer. A double click on any of the items will open a new tab with its content.\n",
    "\n",
    "The main work area includes tabbed views of open files that can be closed, moved, and edited as needed. \n",
    "\n",
    "The notebooks, including this one, consist of a series of content and code **cells**.  To execute code in a code cell, press `Shift+Enter` or the \"Run\" button in the menu bar above, while a cell is highlighted. Sometimes, a content cell will get switched to editing mode. Pressing `Shift+Enter` will switch it back to a readable form.\n",
    "\n",
    "Try executing the simple print statement in the cell below."
   ]
  },
  {
   "cell_type": "code",
   "execution_count": 1,
   "metadata": {},
   "outputs": [
    {
     "name": "stdout",
     "output_type": "stream",
     "text": [
      "This is just a simple print statement\n"
     ]
    }
   ],
   "source": [
    "# Highlight this cell and click [Shift+Enter] to execute\n",
    "print('This is just a simple print statement')"
   ]
  },
  {
   "cell_type": "code",
   "execution_count": null,
   "metadata": {},
   "outputs": [],
   "source": [
    "##**Python packages and visualization tools**\n",
    "\n",
    "To enhance your work with PATO, certain Python packages and post-processing libraries are indispensable. These packages provide additional functionalities, ranging from data analysis and visualization to more complex post-processing tasks. Ensure these packages are installed and accessible in your PATO environment to take full advantage of what PATO has to offer."
   ]
  },
  {
   "cell_type": "code",
   "execution_count": null,
   "metadata": {},
   "outputs": [],
   "source": [
    "%%capture libs_install\n",
    "!pip install matplotlib ipykernel pdf2image\n",
    "!source $CONDA_DIR/bin/activate pato && pip install matplotlib ipykernel pdf2image\n",
    "!apt-get install poppler-utils tree\n",
    "\n",
    "# Functions\n",
    "from pdf2image import convert_from_path\n",
    "from IPython.display import display, Javascript, HTML\n",
    "import io\n",
    "from PIL import Image\n",
    "\n",
    "# Display a pdf: display(HTML(display_pdf(\"path_to_file\")))\n",
    "def display_pdf(pdf_path):\n",
    "    # Convert the first page of the PDF to an image\n",
    "    images = convert_from_path(pdf_path)\n",
    "\n",
    "    # Convert the PIL image to a byte array\n",
    "    img_byte_arr = io.BytesIO()\n",
    "    images[0].save(img_byte_arr, format='PNG')\n",
    "    img_byte_arr = img_byte_arr.getvalue()\n",
    "\n",
    "    # Create a base64 encoded string for the image\n",
    "    import base64\n",
    "    img_base64 = base64.b64encode(img_byte_arr).decode('utf-8')\n",
    "\n",
    "    # Display the image with HTML, setting its size to 50% of the container\n",
    "    html_str = f'<img src=\"data:image/png;base64,{img_base64}\" style=\"width: 50%;\">'\n",
    "    return html_str\n",
    "\n",
    "# Display a text file and highlight lines with search_strings: display(HTML(display_file(\"path_to_file\")))\n",
    "def display_file(file_path, search_strings=[]):\n",
    "    if not isinstance(search_strings, list):\n",
    "        raise ValueError(\"search_strings must be a list of strings\")\n",
    "\n",
    "    # Define a visually appealing yellow color and CSS for preserving whitespace\n",
    "    pretty_yellow = 'rgba(255, 235, 59, 0.3)'  # Light yellow; adjust the color as needed\n",
    "    preserve_whitespace_css = 'white-space: pre-wrap;'\n",
    "\n",
    "    highlighted_content = []\n",
    "    with open(file_path, 'r') as file:\n",
    "        for line in file:\n",
    "            is_highlighted = False\n",
    "            # Identify leading whitespace\n",
    "            leading_whitespace = len(line) - len(line.lstrip())\n",
    "\n",
    "            # Check if any of the search strings is in the current line\n",
    "            for search_string in search_strings:\n",
    "                if search_string in line:\n",
    "                    is_highlighted = True\n",
    "                    break  # No need to check other strings if one is found\n",
    "\n",
    "            # Process the line to highlight up to the last non-whitespace character\n",
    "            if is_highlighted:\n",
    "                # Preserve leading whitespace outside of the highlighted area\n",
    "                line_content = line[leading_whitespace:].rstrip()\n",
    "                highlighted_line = f'<div style=\"{preserve_whitespace_css}\">' + \" \" * leading_whitespace + f'<span style=\"background-color: {pretty_yellow};\">{line_content}</span></div>'\n",
    "            else:\n",
    "                # Preserve the entire line structure for non-highlighted lines\n",
    "                highlighted_line = f'<div style=\"{preserve_whitespace_css}\">{line.rstrip()}</div>'\n",
    "\n",
    "            highlighted_content.append(highlighted_line)\n",
    "\n",
    "    # Join the lines directly, as <div> tags inherently move to a new line\n",
    "    highlighted_file_contents = ''.join(highlighted_content)\n",
    "    return highlighted_file_contents"
   ]
  },
  {
   "cell_type": "code",
   "execution_count": null,
   "metadata": {},
   "outputs": [],
   "source": [
    "# libs_install.show() # uncomment this cell to show the output"
   ]
  },
  {
   "cell_type": "markdown",
   "metadata": {},
   "source": [
    "## Next"
   ]
  },
  {
   "cell_type": "markdown",
   "metadata": {},
   "source": [
    "Now that you are familiar with the interactive environment and that you have the necessary visualization tools, you will, in the next section, perform the 1D pure conduction tutorial in PATO. Please continue to [01_pure_conduction.ipynb](./01_pure_conduction.ipynb)."
   ]
  }
 ],
 "metadata": {
  "kernelspec": {
   "display_name": "Python 3",
   "language": "python",
   "name": "python3"
  },
  "language_info": {
   "codemirror_mode": {
    "name": "ipython",
    "version": 3
   },
   "file_extension": ".py",
   "mimetype": "text/x-python",
   "name": "python",
   "nbconvert_exporter": "python",
   "pygments_lexer": "ipython3",
   "version": "3.6.9"
  }
 },
 "nbformat": 4,
 "nbformat_minor": 4
}

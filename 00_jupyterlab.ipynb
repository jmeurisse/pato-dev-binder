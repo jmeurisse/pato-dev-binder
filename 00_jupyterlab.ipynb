{
 "cells": [
  {
   "cell_type": "markdown",
   "metadata": {},
   "source": [
    "# **PATO Hands-On Lab**\n",
    "\n",
    "\n",
    "<div align=\"center\">\n",
    "<img src=\n",
    "\"https://pato.ac/wp-content/uploads/pato_logo_MSL_recession.png\"\n",
    "width=\"80%\">\n",
    "</div>\n",
    "<br />\n",
    "\n",
    "Welcome to the PATO Hands-On Lab, your comprehensive walkthrough for getting started and proficient with PATO, the Porous material Analysis Toolbox based on OpenFOAM. PATO is a modular analysis platform developed for multiphase porous reactive materials. It supports a wide range of applications from simple Fourier heat transfer to more complex simulations involving pyrolysis, vaporization, and various chemical interactions within porous media. This Lab aims to facilitate your journey through the installation, setup, and basic usage of PATO, empowering you with the knowledge to leverage its capabilities for your projects.\n",
    "\n",
    "For detailed instructions, advanced features, and comprehensive guidance on using PATO, refer to the [PATO User Guide](https://github.com/nasa/pato/blob/main/documentation/user_guide/PATO_v3.1_User_Guide.pdf).\n",
    "\n",
    "Additional information can also be found on the [PATO website.](https://www.pato.ac)\n",
    "\n",
    "Through this Lab, you'll gain the knowledge and skills to effectively utilize PATO for your research and projects. Happy simulating!"
   ]
  },
  {
   "cell_type": "markdown",
   "metadata": {},
   "source": [
    "# JupyterLab\n",
    "For this hands-on lab, we use [JupyterLab](https://jupyterlab.readthedocs.io/en/stable/) to manage our environment.  The [JupyterLab Interface](https://jupyterlab.readthedocs.io/en/stable/user/interface.html) is a dashboard that provides access to interactive iPython notebooks, as well as the folder structure of our environment and a terminal window into the Ubuntu operating system. The first view you'll see includes a **menu bar** at the top, a **file browser** in the **left sidebar**, and a **main work area** that is initially open to the \"Launcher\" page. \n",
    "\n",
    "<img src=\"images/jl_launcher.png\">\n",
    "\n",
    "The file browser can be navigated just like any other file explorer. A double click on any of the items will open a new tab with its content.\n",
    "\n",
    "The main work area includes tabbed views of open files that can be closed, moved, and edited as needed. \n",
    "\n",
    "The notebooks, including this one, consist of a series of content and code **cells**.  To execute code in a code cell, press `Shift+Enter` or the \"Run\" button in the menu bar above, while a cell is highlighted. Sometimes, a content cell will get switched to editing mode. Pressing `Shift+Enter` will switch it back to a readable form.\n",
    "\n",
    "Try executing the simple print statement in the cell below."
   ]
  },
  {
   "cell_type": "code",
   "execution_count": 1,
   "metadata": {},
   "outputs": [
    {
     "name": "stdout",
     "output_type": "stream",
     "text": [
      "This is just a simple print statement\n"
     ]
    }
   ],
   "source": [
    "# Highlight this cell and click [Shift+Enter] to execute\n",
    "print('This is just a simple print statement')"
   ]
  },
  {
   "cell_type": "markdown",
   "metadata": {},
   "source": [
    "## Next"
   ]
  },
  {
   "cell_type": "markdown",
   "metadata": {},
   "source": [
    "Now that you are familiar with the interactive environment, you will, in the next section, perform the \"hello world\" of deep learning, training a neural network to perform image classification on handwritten digits. Please continue to [01_pure_conduction.ipynb](./01_pure_conduction.ipynb)."
   ]
  }
 ],
 "metadata": {
  "kernelspec": {
   "display_name": "Python 3",
   "language": "python",
   "name": "python3"
  },
  "language_info": {
   "codemirror_mode": {
    "name": "ipython",
    "version": 3
   },
   "file_extension": ".py",
   "mimetype": "text/x-python",
   "name": "python",
   "nbconvert_exporter": "python",
   "pygments_lexer": "ipython3",
   "version": "3.6.9"
  }
 },
 "nbformat": 4,
 "nbformat_minor": 4
}
